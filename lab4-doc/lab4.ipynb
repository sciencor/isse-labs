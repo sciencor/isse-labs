{
 "cells": [
  {
   "cell_type": "markdown",
   "id": "b5450c2f",
   "metadata": {},
   "source": [
    "## 步骤 1 - 安装所需的 Python 环境及包"
   ]
  },
  {
   "cell_type": "markdown",
   "id": "ad92d6a2",
   "metadata": {},
   "source": [
    "## 步骤 2 - 初步读入并清洗数据"
   ]
  },
  {
   "cell_type": "code",
   "execution_count": 51,
   "id": "038ba23a",
   "metadata": {},
   "outputs": [
    {
     "data": {
      "text/html": [
       "<div>\n",
       "<style scoped>\n",
       "    .dataframe tbody tr th:only-of-type {\n",
       "        vertical-align: middle;\n",
       "    }\n",
       "\n",
       "    .dataframe tbody tr th {\n",
       "        vertical-align: top;\n",
       "    }\n",
       "\n",
       "    .dataframe thead th {\n",
       "        text-align: right;\n",
       "    }\n",
       "</style>\n",
       "<table border=\"1\" class=\"dataframe\">\n",
       "  <thead>\n",
       "    <tr style=\"text-align: right;\">\n",
       "      <th></th>\n",
       "      <th>text</th>\n",
       "      <th>label</th>\n",
       "      <th>roberta</th>\n",
       "      <th>roberta_score</th>\n",
       "      <th>gpt2</th>\n",
       "      <th>gpt2_score</th>\n",
       "    </tr>\n",
       "  </thead>\n",
       "  <tbody>\n",
       "    <tr>\n",
       "      <th>0</th>\n",
       "      <td>@user @user what do these '1/2 naked pics' hav...</td>\n",
       "      <td>neutral</td>\n",
       "      <td>0</td>\n",
       "      <td>0.8047260642051697</td>\n",
       "      <td>LABEL_2</td>\n",
       "      <td>0.9134505987167358</td>\n",
       "    </tr>\n",
       "    <tr>\n",
       "      <th>1</th>\n",
       "      <td>OH: âI had a blue penis while I was thisâ?[...</td>\n",
       "      <td>neutral</td>\n",
       "      <td>1</td>\n",
       "      <td>0.8669487237930298</td>\n",
       "      <td>LABEL_1</td>\n",
       "      <td>0.7534046173095703</td>\n",
       "    </tr>\n",
       "    <tr>\n",
       "      <th>2</th>\n",
       "      <td>@user @user That's coming, but I think the vic...</td>\n",
       "      <td>neutral</td>\n",
       "      <td>1</td>\n",
       "      <td>0.7637239098548889</td>\n",
       "      <td>LABEL_2</td>\n",
       "      <td>0.9999619722366333</td>\n",
       "    </tr>\n",
       "    <tr>\n",
       "      <th>3</th>\n",
       "      <td>I think I may be finally in with the in crowd ...</td>\n",
       "      <td>positive</td>\n",
       "      <td>2</td>\n",
       "      <td>0.7740470767021179</td>\n",
       "      <td>LABEL_2</td>\n",
       "      <td>0.8987836837768555</td>\n",
       "    </tr>\n",
       "    <tr>\n",
       "      <th>4</th>\n",
       "      <td>@user Wow,first Hugo Chavez and now Fidel Cast...</td>\n",
       "      <td>negative</td>\n",
       "      <td>1</td>\n",
       "      <td>0.41639748215675354</td>\n",
       "      <td>LABEL_2</td>\n",
       "      <td>0.9864314198493958</td>\n",
       "    </tr>\n",
       "  </tbody>\n",
       "</table>\n",
       "</div>"
      ],
      "text/plain": [
       "                                                text     label roberta  \\\n",
       "0  @user @user what do these '1/2 naked pics' hav...   neutral       0   \n",
       "1  OH: âI had a blue penis while I was thisâ?[...   neutral       1   \n",
       "2  @user @user That's coming, but I think the vic...   neutral       1   \n",
       "3  I think I may be finally in with the in crowd ...  positive       2   \n",
       "4  @user Wow,first Hugo Chavez and now Fidel Cast...  negative       1   \n",
       "\n",
       "         roberta_score     gpt2          gpt2_score  \n",
       "0   0.8047260642051697  LABEL_2  0.9134505987167358  \n",
       "1   0.8669487237930298  LABEL_1  0.7534046173095703  \n",
       "2   0.7637239098548889  LABEL_2  0.9999619722366333  \n",
       "3   0.7740470767021179  LABEL_2  0.8987836837768555  \n",
       "4  0.41639748215675354  LABEL_2  0.9864314198493958  "
      ]
     },
     "execution_count": 51,
     "metadata": {},
     "output_type": "execute_result"
    }
   ],
   "source": [
    "import pandas as pd\n",
    "\n",
    "df = pd.read_csv(\"./tweets.csv\")\n",
    "df.head(5)"
   ]
  },
  {
   "cell_type": "markdown",
   "id": "56079382",
   "metadata": {},
   "source": [
    "我们可以发现，Roberta 使用 0/1/2 来分别代表 negative/neutral/positive，而 gpt2 使用 LABEL_0/1/2 来代表 negative/neutral/positive。为了方便后续处理，我们需要进行清理。"
   ]
  },
  {
   "cell_type": "code",
   "execution_count": 52,
   "id": "43d75b48",
   "metadata": {},
   "outputs": [
    {
     "data": {
      "text/html": [
       "<div>\n",
       "<style scoped>\n",
       "    .dataframe tbody tr th:only-of-type {\n",
       "        vertical-align: middle;\n",
       "    }\n",
       "\n",
       "    .dataframe tbody tr th {\n",
       "        vertical-align: top;\n",
       "    }\n",
       "\n",
       "    .dataframe thead th {\n",
       "        text-align: right;\n",
       "    }\n",
       "</style>\n",
       "<table border=\"1\" class=\"dataframe\">\n",
       "  <thead>\n",
       "    <tr style=\"text-align: right;\">\n",
       "      <th></th>\n",
       "      <th>text</th>\n",
       "      <th>label</th>\n",
       "      <th>roberta</th>\n",
       "      <th>roberta_score</th>\n",
       "      <th>gpt2</th>\n",
       "      <th>gpt2_score</th>\n",
       "    </tr>\n",
       "  </thead>\n",
       "  <tbody>\n",
       "    <tr>\n",
       "      <th>0</th>\n",
       "      <td>@user @user what do these '1/2 naked pics' hav...</td>\n",
       "      <td>neutral</td>\n",
       "      <td>negative</td>\n",
       "      <td>0.8047260642051697</td>\n",
       "      <td>positive</td>\n",
       "      <td>0.9134505987167358</td>\n",
       "    </tr>\n",
       "    <tr>\n",
       "      <th>1</th>\n",
       "      <td>OH: âI had a blue penis while I was thisâ?[...</td>\n",
       "      <td>neutral</td>\n",
       "      <td>neutral</td>\n",
       "      <td>0.8669487237930298</td>\n",
       "      <td>neutral</td>\n",
       "      <td>0.7534046173095703</td>\n",
       "    </tr>\n",
       "    <tr>\n",
       "      <th>2</th>\n",
       "      <td>@user @user That's coming, but I think the vic...</td>\n",
       "      <td>neutral</td>\n",
       "      <td>neutral</td>\n",
       "      <td>0.7637239098548889</td>\n",
       "      <td>positive</td>\n",
       "      <td>0.9999619722366333</td>\n",
       "    </tr>\n",
       "    <tr>\n",
       "      <th>3</th>\n",
       "      <td>I think I may be finally in with the in crowd ...</td>\n",
       "      <td>positive</td>\n",
       "      <td>positive</td>\n",
       "      <td>0.7740470767021179</td>\n",
       "      <td>positive</td>\n",
       "      <td>0.8987836837768555</td>\n",
       "    </tr>\n",
       "    <tr>\n",
       "      <th>4</th>\n",
       "      <td>@user Wow,first Hugo Chavez and now Fidel Cast...</td>\n",
       "      <td>negative</td>\n",
       "      <td>neutral</td>\n",
       "      <td>0.41639748215675354</td>\n",
       "      <td>positive</td>\n",
       "      <td>0.9864314198493958</td>\n",
       "    </tr>\n",
       "  </tbody>\n",
       "</table>\n",
       "</div>"
      ],
      "text/plain": [
       "                                                text     label   roberta  \\\n",
       "0  @user @user what do these '1/2 naked pics' hav...   neutral  negative   \n",
       "1  OH: âI had a blue penis while I was thisâ?[...   neutral   neutral   \n",
       "2  @user @user That's coming, but I think the vic...   neutral   neutral   \n",
       "3  I think I may be finally in with the in crowd ...  positive  positive   \n",
       "4  @user Wow,first Hugo Chavez and now Fidel Cast...  negative   neutral   \n",
       "\n",
       "         roberta_score      gpt2          gpt2_score  \n",
       "0   0.8047260642051697  positive  0.9134505987167358  \n",
       "1   0.8669487237930298   neutral  0.7534046173095703  \n",
       "2   0.7637239098548889  positive  0.9999619722366333  \n",
       "3   0.7740470767021179  positive  0.8987836837768555  \n",
       "4  0.41639748215675354  positive  0.9864314198493958  "
      ]
     },
     "execution_count": 52,
     "metadata": {},
     "output_type": "execute_result"
    }
   ],
   "source": [
    "def label_map_gpt2(x):\n",
    "    #TODO\n",
    "    if x == \"LABEL_0\":\n",
    "        return \"negative\"\n",
    "    elif x == \"LABEL_1\":\n",
    "        return \"neutral\"\n",
    "    elif x == \"LABEL_2\":\n",
    "        return \"positive\"\n",
    "    else:\n",
    "        return \"NaN\"\n",
    "    \n",
    "def label_map_roberta(x):\n",
    "    #TODO\n",
    "    if x == \"0\":\n",
    "        return \"negative\"\n",
    "    elif x == \"1\":\n",
    "        return \"neutral\"\n",
    "    elif x == \"2\":\n",
    "        return \"positive\"\n",
    "    else:\n",
    "        return \"NaN\"\n",
    "\n",
    "df['gpt2'] = df['gpt2'].map(label_map_gpt2)\n",
    "df['roberta'] = df['roberta'].map(label_map_roberta)\n",
    "df = df[df[\"label\"].isin([\"negative\", \"neutral\", \"positive\"])]\n",
    "df.head(5)"
   ]
  },
  {
   "cell_type": "markdown",
   "id": "e0cce6cf",
   "metadata": {},
   "source": [
    "Zeno 处理要求我们增加 input_length 列与 id 列，对数据进行进一步处理"
   ]
  },
  {
   "cell_type": "code",
   "execution_count": 53,
   "id": "78e22ca0",
   "metadata": {},
   "outputs": [
    {
     "data": {
      "text/html": [
       "<div>\n",
       "<style scoped>\n",
       "    .dataframe tbody tr th:only-of-type {\n",
       "        vertical-align: middle;\n",
       "    }\n",
       "\n",
       "    .dataframe tbody tr th {\n",
       "        vertical-align: top;\n",
       "    }\n",
       "\n",
       "    .dataframe thead th {\n",
       "        text-align: right;\n",
       "    }\n",
       "</style>\n",
       "<table border=\"1\" class=\"dataframe\">\n",
       "  <thead>\n",
       "    <tr style=\"text-align: right;\">\n",
       "      <th></th>\n",
       "      <th>text</th>\n",
       "      <th>label</th>\n",
       "      <th>roberta</th>\n",
       "      <th>roberta_score</th>\n",
       "      <th>gpt2</th>\n",
       "      <th>gpt2_score</th>\n",
       "      <th>input_length</th>\n",
       "      <th>id</th>\n",
       "    </tr>\n",
       "  </thead>\n",
       "  <tbody>\n",
       "    <tr>\n",
       "      <th>0</th>\n",
       "      <td>@user @user what do these '1/2 naked pics' hav...</td>\n",
       "      <td>neutral</td>\n",
       "      <td>negative</td>\n",
       "      <td>0.8047260642051697</td>\n",
       "      <td>positive</td>\n",
       "      <td>0.9134505987167358</td>\n",
       "      <td>96</td>\n",
       "      <td>0</td>\n",
       "    </tr>\n",
       "    <tr>\n",
       "      <th>1</th>\n",
       "      <td>OH: âI had a blue penis while I was thisâ?[...</td>\n",
       "      <td>neutral</td>\n",
       "      <td>neutral</td>\n",
       "      <td>0.8669487237930298</td>\n",
       "      <td>neutral</td>\n",
       "      <td>0.7534046173095703</td>\n",
       "      <td>75</td>\n",
       "      <td>1</td>\n",
       "    </tr>\n",
       "    <tr>\n",
       "      <th>2</th>\n",
       "      <td>@user @user That's coming, but I think the vic...</td>\n",
       "      <td>neutral</td>\n",
       "      <td>neutral</td>\n",
       "      <td>0.7637239098548889</td>\n",
       "      <td>positive</td>\n",
       "      <td>0.9999619722366333</td>\n",
       "      <td>87</td>\n",
       "      <td>2</td>\n",
       "    </tr>\n",
       "    <tr>\n",
       "      <th>3</th>\n",
       "      <td>I think I may be finally in with the in crowd ...</td>\n",
       "      <td>positive</td>\n",
       "      <td>positive</td>\n",
       "      <td>0.7740470767021179</td>\n",
       "      <td>positive</td>\n",
       "      <td>0.8987836837768555</td>\n",
       "      <td>83</td>\n",
       "      <td>3</td>\n",
       "    </tr>\n",
       "    <tr>\n",
       "      <th>4</th>\n",
       "      <td>@user Wow,first Hugo Chavez and now Fidel Cast...</td>\n",
       "      <td>negative</td>\n",
       "      <td>neutral</td>\n",
       "      <td>0.41639748215675354</td>\n",
       "      <td>positive</td>\n",
       "      <td>0.9864314198493958</td>\n",
       "      <td>133</td>\n",
       "      <td>4</td>\n",
       "    </tr>\n",
       "  </tbody>\n",
       "</table>\n",
       "</div>"
      ],
      "text/plain": [
       "                                                text     label   roberta  \\\n",
       "0  @user @user what do these '1/2 naked pics' hav...   neutral  negative   \n",
       "1  OH: âI had a blue penis while I was thisâ?[...   neutral   neutral   \n",
       "2  @user @user That's coming, but I think the vic...   neutral   neutral   \n",
       "3  I think I may be finally in with the in crowd ...  positive  positive   \n",
       "4  @user Wow,first Hugo Chavez and now Fidel Cast...  negative   neutral   \n",
       "\n",
       "         roberta_score      gpt2          gpt2_score  input_length  id  \n",
       "0   0.8047260642051697  positive  0.9134505987167358            96   0  \n",
       "1   0.8669487237930298   neutral  0.7534046173095703            75   1  \n",
       "2   0.7637239098548889  positive  0.9999619722366333            87   2  \n",
       "3   0.7740470767021179  positive  0.8987836837768555            83   3  \n",
       "4  0.41639748215675354  positive  0.9864314198493958           133   4  "
      ]
     },
     "execution_count": 53,
     "metadata": {},
     "output_type": "execute_result"
    }
   ],
   "source": [
    "df[\"input_length\"] = df[\"text\"].str.len()\n",
    "df['id'] = df.index\n",
    "df.head(5)"
   ]
  },
  {
   "cell_type": "markdown",
   "id": "5ce485ee",
   "metadata": {},
   "source": [
    "## 步骤 3 - 启动 Zeno 进行模型分析"
   ]
  },
  {
   "cell_type": "markdown",
   "id": "89511417",
   "metadata": {},
   "source": [
    "创建一个 [Zeno](https://hub.zenoml.com/account) 账号，阅读如下代码并正确运行，运行完成后你将在个人账户下看到创建的 projects"
   ]
  },
  {
   "cell_type": "code",
   "execution_count": 55,
   "id": "9e43f0fe",
   "metadata": {},
   "outputs": [
    {
     "name": "stdout",
     "output_type": "stream",
     "text": [
      "Successfully updated project.\n",
      "Access your project at  https://hub.zenoml.com/project/e10c4455-8b15-44c4-b0c9-920955a1239c/Twitter%20Sentiment%20Analysis\n"
     ]
    },
    {
     "name": "stderr",
     "output_type": "stream",
     "text": [
      "100%|██████████| 1/1 [00:01<00:00,  1.66s/it]\n"
     ]
    },
    {
     "name": "stdout",
     "output_type": "stream",
     "text": [
      "Successfully uploaded data\n"
     ]
    },
    {
     "name": "stderr",
     "output_type": "stream",
     "text": [
      "100%|██████████| 1/1 [00:01<00:00,  1.38s/it]\n"
     ]
    },
    {
     "name": "stdout",
     "output_type": "stream",
     "text": [
      "Successfully uploaded system\n"
     ]
    },
    {
     "name": "stderr",
     "output_type": "stream",
     "text": [
      "100%|██████████| 1/1 [00:04<00:00,  4.05s/it]"
     ]
    },
    {
     "name": "stdout",
     "output_type": "stream",
     "text": [
      "Successfully uploaded system\n"
     ]
    },
    {
     "name": "stderr",
     "output_type": "stream",
     "text": [
      "\n"
     ]
    }
   ],
   "source": [
    "from zeno_client import ZenoClient, ZenoMetric\n",
    "from dotenv import load_dotenv\n",
    "import os\n",
    "import pandas as pd\n",
    "\n",
    "load_dotenv()\n",
    "API_KEY = os.getenv(\"API_KEY\")\n",
    "client = ZenoClient(API_KEY)\n",
    "\n",
    "# 创建项目\n",
    "proj = client.create_project(\n",
    "    name=\"Twitter Sentiment Analysis\",\n",
    "    view=\"text-classification\",\n",
    "    metrics=[\n",
    "        ZenoMetric(name=\"roberta_accuracy\", type=\"mean\", columns=[\"roberta_correct\"]),\n",
    "        #TODO 类比上述方法，为 gpt2 模型创建相应的评估指标\n",
    "        ZenoMetric(name=\"gpt2_accuracy\", type=\"mean\", columns=[\"gpt2_correct\"])\n",
    "    ]\n",
    ")\n",
    "\n",
    "proj.upload_dataset(df, id_column=\"id\", data_column='text', label_column=\"label\")\n",
    "\n",
    "# 为 Roberta 模型分别创建系统数据框\n",
    "df_roberta = pd.DataFrame({\n",
    "    \"id\": df[\"id\"],\n",
    "    \"output\": df[\"roberta\"],\n",
    "    \"roberta_correct\": (df[\"roberta\"] == df[\"label\"]).astype(int)\n",
    "})\n",
    "proj.upload_system(df_roberta, name=\"Roberta\", id_column=\"id\", output_column=\"output\")\n",
    "#TODO 类比上述方法，为 gpt2 模型创建系统数据框\n",
    "df_gpt2 = pd.DataFrame({\n",
    "    \"id\": df[\"id\"],\n",
    "    \"output\": df[\"gpt2\"],\n",
    "    \"gpt2_correct\": (df[\"gpt2\"] == df[\"label\"]).astype(int)\n",
    "})\n",
    "proj.upload_system(df_gpt2, name=\"gpt2\", id_column=\"id\", output_column=\"output\")\n"
   ]
  },
  {
   "cell_type": "markdown",
   "id": "468a7539",
   "metadata": {},
   "source": [
    "## 步骤 4 - 创建分析切片并进一步分析"
   ]
  },
  {
   "cell_type": "markdown",
   "id": "78ea7993",
   "metadata": {},
   "source": [
    "你一共需要利用 Zeno 提供的接口创建 5 个不同的切片。\n",
    "\n",
    "你可以首先创建两个切片：\n",
    "\n",
    "1. 有标签的推文（含有\"#\"）\n",
    "2. 有强烈正向情感的词语（如 love），你可以自行决定一个词"
   ]
  },
  {
   "cell_type": "markdown",
   "id": "359272de",
   "metadata": {},
   "source": [
    "创建切片可以直接通过点击 \"+\" 按钮来进行，可以通过基本值匹配或正则表达式的方式创建，具体用法参见[文档](https://zenoml.com/docs/intro/)\n",
    "\n",
    "![image.png](images/image.png)\n",
    "\n",
    "有关 Zeno 中更多有趣的用法可以参考 Zeno 仓库中的 [README](https://github.com/zeno-ml/zeno)。"
   ]
  },
  {
   "cell_type": "markdown",
   "id": "f3cdec4b",
   "metadata": {},
   "source": [
    "在此处写下你想要另外创建的三个切片，并在个人 Zeno 账户中创建，针对每一个创建的切片，用一两句话总结模型在其上的表现特点：\n",
    "\n",
    "3. negative words:\n",
    "   \n",
    "   gpt2 表现优于 roberta \n",
    "   \n",
    "4. positive words:\n",
    "   \n",
    "   roberta 与 gpt2 都较优，其中 roberta 更优\n",
    "   \n",
    "5. @someone:\n",
    "   \n",
    "   roberta 表现优于 gpt2   "
   ]
  },
  {
   "cell_type": "markdown",
   "id": "1f7b8cda",
   "metadata": {},
   "source": [
    "## 提交：\n",
    "1. 本 notebook，保留你书写的代码与输出结果\n",
    "2. 一张截图，显示你创建的 5 个切片\n",
    "   ![slice.png](images/slice.png)"
   ]
  }
 ],
 "metadata": {
  "kernelspec": {
   "display_name": "Python 3",
   "language": "python",
   "name": "python3"
  },
  "language_info": {
   "codemirror_mode": {
    "name": "ipython",
    "version": 3
   },
   "file_extension": ".py",
   "mimetype": "text/x-python",
   "name": "python",
   "nbconvert_exporter": "python",
   "pygments_lexer": "ipython3",
   "version": "3.13.0"
  }
 },
 "nbformat": 4,
 "nbformat_minor": 5
}
